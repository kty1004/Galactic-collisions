{
 "cells": [
  {
   "cell_type": "markdown",
   "id": "3045d4cd",
   "metadata": {},
   "source": [
    "# 메모장\n",
    "1. 은하는 2개만 설정(각 은하는 우리 은하와 안드로메다 은하의 물리량을 따름)\n",
    "-우리 은하 물리량\n",
    "반지름: 52,850광년, 질량: 5.8×10**11 \n",
    "중심 블랙홀: 궁수자리 A*, 블랙홀 질량:4.7*10**6, 블랙홀 반지름: 0.0000023254 광년\n",
    "-andromeda(안드로메다) 물리량\n",
    "반지름:110,000광년 질량: 1.5×10**12 \n",
    "2. 2개의 은하는 비록 물리량은 우리 은하와 안드로메다 은하를 따르지만, 모양은 타원 or 공 모양 --> 공 모양이 좋을 듯\n",
    "3. 새로운 변수 추가 --> 은하 간의 거리, 은하 중심의 블랙홀\n",
    "4. 블랙홀 외 다른 별들은 플라즈마 상태의 수소의 밀도를 따른다"
   ]
  },
  {
   "cell_type": "markdown",
   "id": "88577c1c",
   "metadata": {},
   "source": [
    "# 기본적인 상수 설정\n",
    "시간= 년 , 질량= 태양질량, 거리 단위: 천문단위"
   ]
  },
  {
   "cell_type": "code",
   "execution_count": 1,
   "id": "e927c2fc",
   "metadata": {},
   "outputs": [
    {
     "name": "stdout",
     "output_type": "stream",
     "text": [
      "시간 변화량을 정하세요1\n",
      "종료 시간을 정하세요(단위:년)100\n"
     ]
    }
   ],
   "source": [
    "#기본적인 상수 설정\n",
    "light_year= 63241.1077084266 #광년을 au로 바꿔주는 역활\n",
    "g=4.47E-22\n",
    "dt= float(input(\"시간 변화량을 정하세요\")) #시간 변화량\n",
    "time_over=float(input(\"종료 시간을 정하세요(단위:년)\"))\n",
    "# 그래프 함수 불러옴\n",
    "import matplotlib.pyplot as plt\n",
    "import random as rand\n",
    "import math as math #여러 수학 기호들을 사용할 수 있게 해줌.\n",
    "pi= math.pi\n"
   ]
  },
  {
   "cell_type": "markdown",
   "id": "d89d8cd2",
   "metadata": {},
   "source": [
    "# 거리 공식 설정"
   ]
  },
  {
   "cell_type": "code",
   "execution_count": 2,
   "id": "1eb22242",
   "metadata": {},
   "outputs": [],
   "source": [
    "\"\"\"질점에서부터 거리 구하기(함수 정의)\"\"\"\n",
    "def sqrt(num0): # 근호 역활\n",
    "    result0=(num0)**0.5\n",
    "    return result0\n",
    "\n",
    "def dbp(num1,num2,num3,num4,num5,num6): #두 점 사이 거리 공식 매개변수 6개\n",
    "    #num1~2까지는 x값, num3~4까지는 y값 num5~6은 z값\n",
    "    result1= sqrt(((num1-num2)**2)+((num3-num4)**2)+((num5-num6)**2))\n",
    "    return result1\n",
    "\n",
    "\"\"\"지표면에서부터 거리 구하기(함수 정의)\"\"\"\n",
    "def dbp1(D1,D2,D3,D4,D5,D6,D7,D8): #D1~D6는 두 점 사이 거리 공식과 동일, D5,D6는 두 물체 각각의 반지름\n",
    "    dbp1_result=dbp(D1,D2,D3,D4,D5,D6)-abs(D7+D8) #D7~D8는 물체의 반지름\n",
    "    return dbp1_result #같은 물체끼리 dbp1을 했을 때 dbp1이 0이 되지 않는다."
   ]
  },
  {
   "cell_type": "code",
   "execution_count": 3,
   "id": "4484e9bf",
   "metadata": {},
   "outputs": [],
   "source": [
    "def volume(num1):\n",
    "    volume_result=(4/3)*pi*(num1)**3\n",
    "    return volume_result"
   ]
  },
  {
   "cell_type": "markdown",
   "id": "cf5a669d",
   "metadata": {},
   "source": [
    "# 은하 관련 기초 자료"
   ]
  },
  {
   "cell_type": "code",
   "execution_count": 4,
   "id": "d912ccbf",
   "metadata": {},
   "outputs": [
    {
     "name": "stdout",
     "output_type": "stream",
     "text": [
      "우리 은하 내 별의 수를 정하세요:100\n",
      "안드로메다 내 별의 수를 정하세요100\n",
      "안드로메다 중심 위치x를 정하세요1000\n",
      "안드로메다 중심 위치y를 정하세요0\n",
      "안드로메다 중심 위치z를 정하세요0\n",
      "1000.0\n",
      "우리 은하의 반지름을 설정하세요.50\n"
     ]
    }
   ],
   "source": [
    "\"\"\"우리 은하 기초 자료\"\"\"\n",
    "our_galaxy_radius= 52850*light_year\n",
    "our_galaxy_mass=5.8*(10**11)\n",
    "our_galaxy_v=volume(our_galaxy_radius)\n",
    "our_galaxy_density= our_galaxy_mass/our_galaxy_v\n",
    "our_galaxy_count=int(input(\"우리 은하 내 별의 수를 정하세요:\"))\n",
    "\n",
    "# 우리 은하 중심 블랙홀 기초 자료\n",
    "our_blackhole_mass= 4.7*(10**6)\n",
    "our_blackhole_radius= 0.0000023254*light_year\n",
    "\n",
    "our_galaxy_starmass=our_galaxy_mass-our_blackhole_mass\n",
    "\n",
    "\"\"\"안드로매다 은하 기초 자료\"\"\"\n",
    "andromeda_mass=1.5*(10**12)\n",
    "andromeda_radius=110000*light_year\n",
    "andromeda_v=(4/3)*pi*(andromeda_radius)**3\n",
    "andromeda_density= andromeda_mass/andromeda_v\n",
    "andromeda_count=int(input(\"안드로메다 내 별의 수를 정하세요\"))\n",
    "\n",
    "# 안드로메다 은하 중심 블랙홀 기초 자료\n",
    "andromeda_blackhole_mass=2.3 *(10**8) \n",
    "andromeda_blackhole_radius= 0.0000023254*light_year #임의로 우리 은하 블랙홀 반지름과 같게 함\n",
    "\n",
    "andromeda_starmass=andromeda_mass-andromeda_blackhole_mass\n",
    "\n",
    "andromeda_core_locationx=float(input('안드로메다 중심 위치x를 정하세요'))\n",
    "andromeda_core_locationy=float(input('안드로메다 중심 위치y를 정하세요'))\n",
    "andromeda_core_locationz=float(input('안드로메다 중심 위치z를 정하세요'))\n",
    "\n",
    "#우리 은하와 안드로메다까지 거리\n",
    "our_andromeda_distance=dbp(0,0,0,andromeda_core_locationx,andromeda_core_locationy, andromeda_core_locationz )\n",
    "print(our_andromeda_distance)\n",
    "\"\"\"플라즈마 상태의 수소의 밀도\"\"\"\n",
    "sun_mass=1.989*(10**33) #g으로 나타냄\n",
    "au= 149597870700 #미터로 나타냄\n",
    "hydrogen_density=(au**3)*100*1.41/sun_mass #태양의 평균 밀도로 설정\n",
    "\n",
    "\n",
    "\"\"\"우리 은하와 안드로메다 축소 크기 설정\"\"\"\n",
    "area_radius=float(input(\"우리 은하의 반지름을 설정하세요.\"))\n",
    "galaxy_radius_times=andromeda_radius/our_galaxy_radius"
   ]
  },
  {
   "cell_type": "markdown",
   "id": "48ed9d78",
   "metadata": {},
   "source": [
    "# 축소비"
   ]
  },
  {
   "cell_type": "code",
   "execution_count": 5,
   "id": "04276961",
   "metadata": {},
   "outputs": [
    {
     "name": "stdout",
     "output_type": "stream",
     "text": [
      "축소비 1.4959791629801778e-08\n"
     ]
    }
   ],
   "source": [
    "reduction_constant= area_radius/our_galaxy_radius\n",
    "print('축소비', reduction_constant)"
   ]
  },
  {
   "cell_type": "markdown",
   "id": "724d92e9",
   "metadata": {},
   "source": [
    "# 물체의 질량,속도(x,y), 크기 정의"
   ]
  },
  {
   "cell_type": "code",
   "execution_count": 6,
   "id": "e8db7bc6",
   "metadata": {},
   "outputs": [
    {
     "name": "stdout",
     "output_type": "stream",
     "text": [
      "우리 은하의 속도x을 정해세요:0\n",
      "우리 은하의 속도y을 정해세요:0\n",
      "우리 은하의 속도z을 정해세요:0\n",
      "안드로메다 은하의 속도x을 정해세요:-1\n",
      "안드로메다 은하의 속도y을 정해세요:0\n",
      "안드로메다 은하의 속도z을 정해세요:0\n",
      "총 물체의 개수 200\n"
     ]
    }
   ],
   "source": [
    "\n",
    "REPEAT=int(time_over/dt) #계산 반복할 횟수\n",
    "\"\"\"은하 전체의 속도\"\"\"\n",
    "#우리 은하의 속도 값\n",
    "our_galaxy_Vxvalue= int(input('우리 은하의 속도x을 정해세요:'))\n",
    "our_galaxy_Vyvalue= int(input('우리 은하의 속도y을 정해세요:'))\n",
    "our_galaxy_Vzvalue= int(input('우리 은하의 속도z을 정해세요:'))\n",
    "#안드로 메다 은하의 속도 값\n",
    "andromeda_Vxvalue= int(input('안드로메다 은하의 속도x을 정해세요:'))\n",
    "andromeda_Vyvalue= int(input('안드로메다 은하의 속도y을 정해세요:'))\n",
    "andromeda_Vzvalue= int(input('안드로메다 은하의 속도z을 정해세요:'))\n",
    "\n",
    "count= our_galaxy_count+andromeda_count #물체의 개수 정함\n",
    "print('총 물체의 개수',count)\n",
    "\n",
    "\"\"\"별들의 질량 값 설정\"\"\"\n",
    "our_galaxy_massvalue= our_galaxy_starmass/our_galaxy_count\n",
    "andromeda_massvalue= andromeda_starmass/andromeda_count\n",
    "\n",
    "\"\"\"for문을 우리 은하와 안드로메다은하로 쪼개야 한다\"\"\"\n",
    "for a in range(1,our_galaxy_count+1):\n",
    "    if a==1:\n",
    "        globals()['mass1']= our_blackhole_mass\n",
    "        #물체들의 질량 설정 완료\n",
    "        globals()['vx{}'.format(a)]= our_galaxy_Vxvalue # 중심 블랙홀도 은하 전체의 속도를 따른다.\n",
    "        #물체들의 속도x 설정 완료\n",
    "        globals()['vy{}'.format(a)]= our_galaxy_Vyvalue\n",
    "        #물체들의 속도y 설정 완료\n",
    "        globals()['vz{}'.format(a)]= our_galaxy_Vzvalue\n",
    "        #물체들의 속도z 설정 완료\n",
    "        continue\n",
    "        \n",
    "    globals()['mass{}'.format(a)]= our_galaxy_massvalue\n",
    "    #물체들의 질량 설정 완료\n",
    "    globals()['vx{}'.format(a)]= our_galaxy_Vxvalue\n",
    "    #물체들의 속도x 설정 완료\n",
    "    globals()['vy{}'.format(a)]= our_galaxy_Vyvalue\n",
    "    #물체들의 속도y 설정 완료\n",
    "    globals()['vz{}'.format(a)]= our_galaxy_Vzvalue\n",
    "    #물체들의 속도z 설정 완료\n",
    "\n",
    "\"\"\"안드로메다 은하\"\"\"\n",
    "for a in range(our_galaxy_count+1,count+1):\n",
    "    if a==our_galaxy_count+1:#안드로메다 은하 중심 블랙홀\n",
    "        globals()['mass{}'.format(a)]= andromeda_blackhole_mass\n",
    "        #물체들의 질량 설정 완료\n",
    "        globals()['vx{}'.format(a)]= andromeda_Vxvalue\n",
    "        #물체들의 속도x 설정 완료\n",
    "        globals()['vy{}'.format(a)]= andromeda_Vyvalue\n",
    "        #물체들의 속도y 설정 완료\n",
    "        globals()['vz{}'.format(a)]= andromeda_Vzvalue\n",
    "        #물체들의 속도z 설정 완료 \n",
    "        continue\n",
    "        \n",
    "    globals()['mass{}'.format(a)]= andromeda_massvalue\n",
    "    #물체들의 질량 설정 완료\n",
    "    globals()['vx{}'.format(a)]= andromeda_Vxvalue\n",
    "    #물체들의 속도x 설정 완료\n",
    "    globals()['vy{}'.format(a)]= andromeda_Vyvalue\n",
    "    #물체들의 속도y 설정 완료\n",
    "    globals()['vz{}'.format(a)]= andromeda_Vzvalue\n",
    "    #물체들의 속도z 설정 완료\n",
    "    \n",
    "# 각 질량들을 mass라는 질량 리스트에 넣어 둠\n",
    "\"\"\"질량, 속도xyz 값 리스트 생성\"\"\"\n",
    "mass=[]\n",
    "velocityx=[]\n",
    "velocityy=[]\n",
    "velocityz=[]\n",
    "for b in range(1,count+1):\n",
    "    mass.append(globals()['mass{}'.format(b)])\n",
    "    velocityx.append(globals()['vx{}'.format(b)])\n",
    "    velocityy.append(globals()['vy{}'.format(b)])\n",
    "    velocityz.append(globals()['vz{}'.format(b)])\n",
    "    #각 리스트에 각 속도 성분 넣음\n",
    "\n",
    "\"\"\"물체의 크기 설정\"\"\"\n",
    "radius=[]\n",
    "#우리 은하\n",
    "our_galaxy_star_radiusvalue= (our_galaxy_massvalue/(hydrogen_density*pi))**0.5\n",
    "\n",
    "for RADIUS in range(1,our_galaxy_count+1):\n",
    "    if RADIUS ==1: #우리 은하 중심 블랙홀 설정\n",
    "        globals()['rad1']= our_blackhole_radius*reduction_constant\n",
    "        radius.append(globals()['rad1'])\n",
    "        continue\n",
    "     \n",
    "    globals()['rad{}'.format(RADIUS)]= our_galaxy_star_radiusvalue\n",
    "    radius.append(globals()['rad{}'.format(RADIUS)])\n",
    "\n",
    "#안드로메다 설정\n",
    "andromeda_star_radiusvalue= (andromeda_massvalue/(hydrogen_density*pi))**0.5\n",
    "\n",
    "\n",
    "for i in range(our_galaxy_count+1,count+1):\n",
    "    if i ==our_galaxy_count+1:\n",
    "        globals()['rad{}'.format(i)]= andromeda_blackhole_radius*reduction_constant\n",
    "        radius.append(globals()['rad{}'.format(i)])\n",
    "        continue\n",
    "    \n",
    "    globals()['rad{}'.format(i)]= andromeda_star_radiusvalue\n",
    "    radius.append(globals()['rad{}'.format(i)])\n",
    "    "
   ]
  },
  {
   "cell_type": "markdown",
   "id": "29a2ab7a",
   "metadata": {},
   "source": [
    "# 물체의 초기 위치 구하기(x,y값 둘다!)"
   ]
  },
  {
   "cell_type": "code",
   "execution_count": 7,
   "id": "7052fe3e",
   "metadata": {},
   "outputs": [],
   "source": [
    "\"\"\"랜덤 값 설정\"\"\"\n",
    "range1= rand.uniform(0,360)\n",
    "range2= math.radians(range1) #무작위위 각도(도)를 라디안으로 바꿔줌\n",
    "our_galaxy_radius1=rand.uniform(0,our_galaxy_radius)\n",
    "    \n",
    "degree_rangeD= rand.uniform(0,180) #0~pi\n",
    "degree_rangeR= math.radians(degree_rangeD)\n",
    "    \n",
    "locationxvalue= area_radius*(math.cos(degree_rangeR))*(math.cos(range2))\n",
    "locationyvalue= area_radius*(math.cos(degree_rangeR))*(math.sin(range2))\n",
    "locationzvalue= area_radius*(math.sin(degree_rangeR))\n",
    "\n",
    "\n",
    "\"\"\"우리 은하 위치 구하기\"\"\"\n",
    "for c in range(1,our_galaxy_count+1):\n",
    "    if c==1: #우리 은하 블랙홀 위치 설정\n",
    "        globals()['locationx1']= 0 \n",
    "        globals()['locationy1']= 0\n",
    "        globals()['locationz1']= 0\n",
    "        continue\n",
    "    \n",
    "    #각 위치 값들의 랜덤 값을 계속 갱신해줘야 함\n",
    "\n",
    "    globals()['locationx{}'.format(c)]= locationxvalue \n",
    "    globals()['locationy{}'.format(c)]= locationyvalue\n",
    "    globals()['locationz{}'.format(c)]= locationzvalue\n",
    "    \n",
    "\"\"\"안드로메다 은하 위치 구하기\"\"\"\n",
    "for i in range(our_galaxy_count+1, count+1):\n",
    "    if i ==our_galaxy_count+1:\n",
    "        globals()['locationx{}'.format(i)]= andromeda_core_locationx\n",
    "        globals()['locationy{}'.format(i)]= andromeda_core_locationy\n",
    "        globals()['locationz{}'.format(i)]= andromeda_core_locationz\n",
    "        continue\n",
    "    globals()['locationx{}'.format(i)]= galaxy_radius_times*locationxvalue+andromeda_core_locationx\n",
    "    globals()['locationy{}'.format(i)]= galaxy_radius_times*locationyvalue+andromeda_core_locationy\n",
    "    globals()['locationz{}'.format(i)]= galaxy_radius_times*locationzvalue+andromeda_core_locationz\n",
    "    \n",
    "    \n",
    "#리스트에 x,y위치 넣기\n",
    "locationx=[]\n",
    "locationy=[]\n",
    "locationz=[]\n",
    "#리스트 생성\n",
    "\n",
    "for d in range(1,count+1):\n",
    "    locationx.append(globals()['locationx{}'.format(d)]) #이렇게 append내에서도 광역 변수를 넣어줘야 정상적으로 숫자가 나온다\n",
    "    locationy.append(globals()['locationy{}'.format(d)])\n",
    "    locationz.append(globals()['locationz{}'.format(d)])\n",
    "\n"
   ]
  },
  {
   "cell_type": "markdown",
   "id": "f84a74f6",
   "metadata": {},
   "source": [
    "# 기본적인 세팅은 이제 끝"
   ]
  },
  {
   "cell_type": "markdown",
   "id": "e5ae7a37",
   "metadata": {},
   "source": [
    "# 지표면,질점에서부터 거리 구하기"
   ]
  },
  {
   "cell_type": "code",
   "execution_count": 8,
   "id": "76b6d406",
   "metadata": {},
   "outputs": [],
   "source": [
    "for f in range(1,count+1):\n",
    "    for g in range(1,count+1):\n",
    "        if f==g:\n",
    "            continue\n",
    "        x1= globals()['locationx{}'.format(f)]\n",
    "        x2= globals()['locationx{}'.format(g)]\n",
    "        y1= globals()['locationy{}'.format(f)]\n",
    "        y2= globals()['locationy{}'.format(g)]\n",
    "        z1= globals()['locationz{}'.format(f)]\n",
    "        z2= globals()['locationz{}'.format(g)]\n",
    "        \n",
    "        radiusR= globals()['rad{}'.format(f)] #두 물체의 반지름\n",
    "        radiusR1= globals()['rad{}'.format(g)]\n",
    "        globals()['r{}_{}'.format(f,g)]= dbp(x1,x2,y1,y2,z1,z2) #f가 먼저 g가 다음 \n",
    "        #글로벌이 되게 중요하구나.......\n",
    "        globals()['r__{}_{}'.format(f,g)]= dbp1(x1,x2,y1,y2,z1,z2,radiusR,radiusR1) "
   ]
  },
  {
   "cell_type": "code",
   "execution_count": null,
   "id": "d0ac24ec",
   "metadata": {},
   "outputs": [],
   "source": []
  },
  {
   "cell_type": "code",
   "execution_count": 9,
   "id": "8390c0ff",
   "metadata": {},
   "outputs": [],
   "source": [
    "def area(area1,area2): \n",
    "    area_result= sqrt((area1**2)+(area2**2))\n",
    "    return area_result"
   ]
  },
  {
   "cell_type": "markdown",
   "id": "1acec389",
   "metadata": {},
   "source": [
    "r1.2,r2.1 다 작동한다\n",
    "# r__{}_{}는 지표면에서부터 거리다."
   ]
  },
  {
   "cell_type": "markdown",
   "id": "0af0e1ae",
   "metadata": {},
   "source": [
    "# 나중 속도 구하기"
   ]
  },
  {
   "cell_type": "code",
   "execution_count": 10,
   "id": "38986535",
   "metadata": {},
   "outputs": [],
   "source": [
    "def V_(num5,num6): #num5는 처음 속도 ,num6는 가속도\n",
    "    v_result= num5+num6*dt\n",
    "    return v_result\n",
    "#정상 작동한다."
   ]
  },
  {
   "cell_type": "markdown",
   "id": "5bc23de6",
   "metadata": {},
   "source": [
    "# 나중 위치 구하기"
   ]
  },
  {
   "cell_type": "code",
   "execution_count": 11,
   "id": "bb07ba99",
   "metadata": {},
   "outputs": [],
   "source": [
    "def L_(num7,num8,num9): #num7은 처음 속도, num8은 나중\n",
    "    L_result=num9+((num7+num8)/2)*dt\n",
    "    return L_result"
   ]
  },
  {
   "cell_type": "markdown",
   "id": "295d84ec",
   "metadata": {},
   "source": [
    "# 가속도 식 만들기(x,y)"
   ]
  },
  {
   "cell_type": "code",
   "execution_count": 12,
   "id": "49ad9b42",
   "metadata": {},
   "outputs": [],
   "source": [
    "#x가속도 식 만들기\n",
    "\n",
    "# 가속도x,y,z 통용 식 정의\n",
    "def A_(M2,R,X1,X2): # 순서대로 --> 질량2 1,2 간의 거리,1의 위치,2의위치\n",
    "    try:\n",
    "        A_result= (M2*g/(R**2))*(abs(X1-X2)/R)*((X2-X1)/abs(X2-X1)) #abs에 바로 문자 넣어도 된다\n",
    "    except ZeroDivisionError:\n",
    "        A_result=0\n",
    "    return A_result"
   ]
  },
  {
   "cell_type": "markdown",
   "id": "8cf77d47",
   "metadata": {},
   "source": [
    "# 총합 구하는 함수 제작"
   ]
  },
  {
   "cell_type": "code",
   "execution_count": 13,
   "id": "26ce02bb",
   "metadata": {},
   "outputs": [],
   "source": [
    "def sum(*args): #가변 매개변수 함수 사용\n",
    "    sum_result=0\n",
    "    for sum_i in args:\n",
    "        sum_result+=sum_i\n",
    "    return sum_result\n",
    " #전부 더하는 함수 생성"
   ]
  },
  {
   "cell_type": "markdown",
   "id": "eb69d6ac",
   "metadata": {},
   "source": [
    "# 초기위치에서 서로 겹치는 것 제거하기"
   ]
  },
  {
   "cell_type": "code",
   "execution_count": 14,
   "id": "04fbdc5a",
   "metadata": {},
   "outputs": [],
   "source": [
    "minus=[]\n",
    "for PP in range(1,count+1):\n",
    "    for PPP in range(1,count+1):\n",
    "        if PPP in minus:\n",
    "            continue #continue는 밑에 있는거 전부 지나치라는 명령어\n",
    "        \n",
    "        if PP in minus:\n",
    "            continue\n",
    "        \n",
    "        if PP<PPP and globals()['r__{}_{}'.format(PP,PPP)]<=0: # 삭제 코드\n",
    "            globals()['rad{}'.format(PP)]= area(globals()['rad{}'.format(PP)],globals()['rad{}'.format(PPP)])\n",
    "            # 앞의 물체(DD)반지름 갱신\n",
    "            # else 생략 가능!!\n",
    "            #mass{} 앞의 물체 질량갱신\n",
    "            globals()['mass{}'.format(PP)]=sum(globals()['mass{}'.format(PP)],globals()['mass{}'.format(PPP)])\n",
    "\n",
    "            # 위치 지우기\n",
    "            del globals()['locationx{}'.format(PPP)], #큰 걸 지워야 해 DDD\n",
    "            del globals()['locationy{}'.format(PPP)],\n",
    "            del globals()['locationz{}'.format(PPP)]\n",
    "            #속도 삭제\n",
    "            del  globals()['vx{}'.format(PPP)],\n",
    "            del  globals()['vy{}'.format(PPP)],\n",
    "            del  globals()['vz{}'.format(PPP)]\n",
    "            #큰 거 기준 (질점,지표면)부터 거리 삭제\n",
    "            del globals()['r{}_{}'.format(PPP,PP)],\n",
    "            del globals()['r__{}_{}'.format(PPP,PP)],\n",
    "            #큰 거 반지름 삭제\n",
    "            del globals()['rad{}'.format(PPP)],\n",
    "            #큰 거 질량 삭제\n",
    "            del globals()['mass{}'.format(PPP)]\n",
    "            \n",
    "            minus.append(locals()['PPP'])\n",
    "    #기존 locationx리스트 초기화\n",
    "    locationx=[]\n",
    "    locationy=[]\n",
    "    locationz=[]\n",
    "    for LOCATION12 in range(1,count+1):\n",
    "        if LOCATION12 in minus:\n",
    "            continue\n",
    "        locationx.append(globals()['locationx{}'.format(LOCATION12)]) #이렇게 append내에서도 광역 변수를 넣어줘야 정상적으로 숫자가 나온다\n",
    "        locationy.append(globals()['locationy{}'.format(LOCATION12)])\n",
    "        locationz.append(globals()['locationz{}'.format(LOCATION12)])\n",
    "    #기존 질량 리스트 초기화\n",
    "    mass=[]\n",
    "    for MASS__ in range(1,count+1):\n",
    "        if MASS__ in minus:\n",
    "            continue\n",
    "        mass.append(globals()['mass{}'.format(MASS__)])\n",
    "    \n",
    "    # 기존 반지름 리스트 초기화\n",
    "    radius=[]\n",
    "    for R_____ in range(1,count+1):\n",
    "        if R_____ in minus:\n",
    "            continue\n",
    "        radius.append(globals()['rad{}'.format(R_____)])\n",
    "            #리스트에 있는 변수를 지우고 나서 새로 리스트를 업그레이드 해야 한다."
   ]
  },
  {
   "cell_type": "code",
   "execution_count": 15,
   "id": "283f9c51",
   "metadata": {},
   "outputs": [
    {
     "name": "stdout",
     "output_type": "stream",
     "text": [
      "[2, 3, 4, 5, 6, 7, 8, 9, 10, 11, 12, 13, 14, 15, 16, 17, 18, 19, 20, 21, 22, 23, 24, 25, 26, 27, 28, 29, 30, 31, 32, 33, 34, 35, 36, 37, 38, 39, 40, 41, 42, 43, 44, 45, 46, 47, 48, 49, 50, 51, 52, 53, 54, 55, 56, 57, 58, 59, 60, 61, 62, 63, 64, 65, 66, 67, 68, 69, 70, 71, 72, 73, 74, 75, 76, 77, 78, 79, 80, 81, 82, 83, 84, 85, 86, 87, 88, 89, 90, 91, 92, 93, 94, 95, 96, 97, 98, 99, 100, 102, 103, 104, 105, 106, 107, 108, 109, 110, 111, 112, 113, 114, 115, 116, 117, 118, 119, 120, 121, 122, 123, 124, 125, 126, 127, 128, 129, 130, 131, 132, 133, 134, 135, 136, 137, 138, 139, 140, 141, 142, 143, 144, 145, 146, 147, 148, 149, 150, 151, 152, 153, 154, 155, 156, 157, 158, 159, 160, 161, 162, 163, 164, 165, 166, 167, 168, 169, 170, 171, 172, 173, 174, 175, 176, 177, 178, 179, 180, 181, 182, 183, 184, 185, 186, 187, 188, 189, 190, 191, 192, 193, 194, 195, 196, 197, 198, 199, 200]\n"
     ]
    }
   ],
   "source": [
    "print(minus)"
   ]
  },
  {
   "cell_type": "markdown",
   "id": "a4e32796",
   "metadata": {},
   "source": [
    "# 초기 위치 그래프"
   ]
  },
  {
   "cell_type": "code",
   "execution_count": 16,
   "id": "0a20e4c5",
   "metadata": {},
   "outputs": [
    {
     "data": {
      "text/plain": [
       "2"
      ]
     },
     "execution_count": 16,
     "metadata": {},
     "output_type": "execute_result"
    }
   ],
   "source": [
    "r1_65\n",
    "len(radius)"
   ]
  },
  {
   "cell_type": "code",
   "execution_count": 17,
   "id": "d32c04d2",
   "metadata": {
    "scrolled": true
   },
   "outputs": [
    {
     "name": "stdout",
     "output_type": "stream",
     "text": [
      "그래프의 x,y축 크기를 결정하세요1000\n"
     ]
    },
    {
     "data": {
      "image/png": "[encoded data removed]",
      "text/plain": [
       "<Figure size 432x288 with 1 Axes>"
      ]
     },
     "metadata": {
      "needs_background": "light"
     },
     "output_type": "display_data"
    }
   ],
   "source": [
    "p= int(input('그래프의 x,y축 크기를 결정하세요'))\n",
    "fig=plt.figure()\n",
    "ax=fig.add_subplot(111, projection='3d') #3 차원\n",
    "ax.scatter(locationx,locationy,locationz, c=mass, s= radius) #초기 물체들의 위치 c는 색깔, s점의 크기\n",
    "\n",
    "ax.set_zticks((-p,p))\n",
    "ax.set_xticks((-p,p))\n",
    "ax.set_yticks((-p,p))\n",
    "plt.show()"
   ]
  },
  {
   "cell_type": "code",
   "execution_count": 18,
   "id": "0b1a0f0e",
   "metadata": {
    "scrolled": true
   },
   "outputs": [
    {
     "data": {
      "text/plain": [
       "2"
      ]
     },
     "execution_count": 18,
     "metadata": {},
     "output_type": "execute_result"
    }
   ],
   "source": [
    "len(locationx)"
   ]
  },
  {
   "cell_type": "code",
   "execution_count": 19,
   "id": "904b6425",
   "metadata": {
    "scrolled": true
   },
   "outputs": [
    {
     "data": {
      "text/plain": [
       "[<matplotlib.lines.Line2D at 0x14b29b092b0>]"
      ]
     },
     "execution_count": 19,
     "metadata": {},
     "output_type": "execute_result"
    },
    {
     "data": {
      "image/png": "[encoded data removed]",
      "text/plain": [
       "<Figure size 432x288 with 1 Axes>"
      ]
     },
     "metadata": {
      "needs_background": "light"
     },
     "output_type": "display_data"
    }
   ],
   "source": [
    "plt.plot(radius)"
   ]
  },
  {
   "cell_type": "code",
   "execution_count": 20,
   "id": "c79ff4be",
   "metadata": {},
   "outputs": [
    {
     "data": {
      "text/plain": [
       "[<matplotlib.lines.Line2D at 0x14b29b6c610>]"
      ]
     },
     "execution_count": 20,
     "metadata": {},
     "output_type": "execute_result"
    },
    {
     "data": {
      "image/png": "[encoded data removed]",
      "text/plain": [
       "<Figure size 432x288 with 1 Axes>"
      ]
     },
     "metadata": {
      "needs_background": "light"
     },
     "output_type": "display_data"
    }
   ],
   "source": [
    "plt.plot(mass)"
   ]
  },
  {
   "cell_type": "markdown",
   "id": "1bac4fc3",
   "metadata": {},
   "source": [
    "# 반복문 만들기"
   ]
  },
  {
   "cell_type": "code",
   "execution_count": 21,
   "id": "9b6aeada",
   "metadata": {
    "scrolled": true
   },
   "outputs": [
    {
     "ename": "KeyboardInterrupt",
     "evalue": "",
     "output_type": "error",
     "traceback": [
      "\u001b[1;31m---------------------------------------------------------------------------\u001b[0m",
      "\u001b[1;31mKeyboardInterrupt\u001b[0m                         Traceback (most recent call last)",
      "\u001b[1;32m<ipython-input-21-82757931112a>\u001b[0m in \u001b[0;36m<module>\u001b[1;34m\u001b[0m\n\u001b[0;32m     72\u001b[0m         \u001b[1;32mfor\u001b[0m \u001b[0mSAY2_\u001b[0m \u001b[1;32min\u001b[0m \u001b[0mrange\u001b[0m\u001b[1;33m(\u001b[0m\u001b[1;36m1\u001b[0m\u001b[1;33m,\u001b[0m \u001b[0mcount\u001b[0m\u001b[1;33m+\u001b[0m\u001b[1;36m1\u001b[0m\u001b[1;33m)\u001b[0m\u001b[1;33m:\u001b[0m\u001b[1;33m\u001b[0m\u001b[1;33m\u001b[0m\u001b[0m\n\u001b[0;32m     73\u001b[0m             \u001b[1;32mif\u001b[0m \u001b[0mSAY1_\u001b[0m \u001b[1;32min\u001b[0m \u001b[0mminus\u001b[0m\u001b[1;33m:\u001b[0m\u001b[1;33m\u001b[0m\u001b[1;33m\u001b[0m\u001b[0m\n\u001b[1;32m---> 74\u001b[1;33m                 \u001b[1;32mcontinue\u001b[0m\u001b[1;33m\u001b[0m\u001b[1;33m\u001b[0m\u001b[0m\n\u001b[0m\u001b[0;32m     75\u001b[0m             \u001b[1;32mif\u001b[0m \u001b[0mSAY2_\u001b[0m \u001b[1;32min\u001b[0m \u001b[0mminus\u001b[0m\u001b[1;33m:\u001b[0m\u001b[1;33m\u001b[0m\u001b[1;33m\u001b[0m\u001b[0m\n\u001b[0;32m     76\u001b[0m                 \u001b[1;32mcontinue\u001b[0m\u001b[1;33m\u001b[0m\u001b[1;33m\u001b[0m\u001b[0m\n",
      "\u001b[1;31mKeyboardInterrupt\u001b[0m: "
     ]
    }
   ],
   "source": [
    "largest_radius=[]\n",
    "largest_velocityx=[]\n",
    "largest_velocityy=[]\n",
    "largest_velocityz=[]\n",
    "for repeat in range(1,REPEAT+1):\n",
    "    \n",
    "        \n",
    "    \"\"\"가속도x 성분 정의 해주기\"\"\"\n",
    "    for a_ in range(1,count+1):\n",
    "        for a_1 in range(1,count+1):\n",
    "            if a_ in minus:\n",
    "                continue\n",
    "            if a_1 in minus:\n",
    "                continue\n",
    "            if a_== a_1:\n",
    "                continue\n",
    "            #a_가 먼저, a_1가 나중\n",
    "            a__2= globals()['mass{}'.format(a_1)]\n",
    "            a__3= globals()['r{}_{}'.format(a_,a_1)] # 거리\n",
    "            a__4= globals()['locationx{}'.format(a_)] # 1의 x좌표\n",
    "            a__5= globals()['locationx{}'.format(a_1)] #2의 x좌표\n",
    "        \n",
    "            globals()['ax{}_{}'.format(a_,a_1)]=A_(a__2,a__3,a__4,a__5)\n",
    "           \n",
    "    \"\"\"가속도y 성분 정의 해주기\"\"\"\n",
    "    for ay_ in range(1,count+1):\n",
    "        for ay_1 in range(1,count+1):\n",
    "            if ay_ in minus:\n",
    "                continue\n",
    "            if ay_1 in minus:\n",
    "                continue\n",
    "            if ay_==ay_1:\n",
    "                continue\n",
    "            ay__2= globals()['mass{}'.format(ay_1)]\n",
    "            ay__3= globals()['r{}_{}'.format(ay_,ay_1)] # 거리\n",
    "            ay__4= globals()['locationy{}'.format(ay_)] # 1의 y좌표\n",
    "            ay__5= globals()['locationy{}'.format(ay_1)] #2의 y좌표\n",
    "        \n",
    "            globals()['ay{}_{}'.format(ay_,ay_1)]=A_(ay__2,ay__3,ay__4,ay__5)\n",
    "            \n",
    "    \"\"\"가속도 Z 성분 정의 해주기\"\"\"\n",
    "    for az_ in range(1,count+1):\n",
    "        for az_1 in range(1,count+1):\n",
    "            if az_ in minus:\n",
    "                continue\n",
    "            if az_1 in minus:\n",
    "                continue\n",
    "            if az_==az_1:\n",
    "                continue\n",
    "            az__2= globals()['mass{}'.format(az_1)]\n",
    "            az__3= globals()['r{}_{}'.format(az_,az_1)] # 거리\n",
    "            az__4= globals()['locationz{}'.format(az_)] # 1의 y좌표\n",
    "            az__5= globals()['locationz{}'.format(az_1)] #2의 y좌표\n",
    "        \n",
    "            globals()['az{}_{}'.format(az_,az_1)]=A_(az__2,az__3,az__4,az__5)\n",
    "    \n",
    "    \"\"\"가속도 x성분 총합 구하기\"\"\"\n",
    "    #x성분\n",
    "    for SAX1_ in range(1,count+1):\n",
    "        for SAX2_ in range(1,count+1):\n",
    "            if SAX1_ in minus:\n",
    "                continue\n",
    "            if SAX2_ in minus:\n",
    "                continue\n",
    "            if SAX1_==SAX2_:\n",
    "                continue\n",
    "            globals()['Sax{}'.format(SAX1_)]=sum(globals()['ax{}_{}'.format(SAX1_, SAX2_)])\n",
    "\n",
    "    \"\"\"가속도 y 성분 총합 구하기\"\"\"\n",
    "    #y 성분\n",
    "    for SAY1_ in range(1,count+1):\n",
    "        for SAY2_ in range(1, count+1):\n",
    "            if SAY1_ in minus:\n",
    "                continue\n",
    "            if SAY2_ in minus:\n",
    "                continue\n",
    "            if SAY1_==SAY2_:\n",
    "                continue\n",
    "            globals()['Say{}'.format(SAY1_)]=sum(globals()['ay{}_{}'.format(SAY1_,SAY2_)])\n",
    "    \n",
    "    \"\"\"가속도 z 성분 총합 구하기\"\"\"\n",
    "    # z 성분\n",
    "    for SAZ in range(1, count+1):\n",
    "        for SAZ2 in range(1, count+1):\n",
    "            if SAZ in minus:\n",
    "                continue\n",
    "            if SAZ2 in minus:\n",
    "                continue\n",
    "            if SAZ==SAZ2:\n",
    "                continue\n",
    "            globals()['Saz{}'.format(SAZ)]= sum(globals()['az{}_{}'.format(SAZ,SAZ2)])\n",
    "    \n",
    "    \"\"\"나중 속도 구하기\"\"\"\n",
    "    #나중 속도 구하기 x 성분\n",
    "    for vx1_ in range(1,count+1): \n",
    "        if vx1_ in minus:\n",
    "            continue\n",
    "        globals()['vx0{}'.format(vx1_)]=globals()['vx{}'.format(vx1_)]\n",
    "        globals()['vx{}'.format(vx1_)]=V_(globals()['vx{}'.format(vx1_)],globals()['Sax{}'.format(vx1_)]) #처음속도와 가속도 합\n",
    "    # V_라는 함수에 속도를 집어 넣음\n",
    "    #vx는 나중 속도, vx0는 처음 속도 --> 서로 다른 거 확인 함\n",
    "    \n",
    "    #나중 속도 구하기 y 성분\n",
    "    for vy1_ in range(1,count+1): \n",
    "        if vy1_ in minus:\n",
    "            continue\n",
    "        globals()['vy0{}'.format(vy1_)]=globals()['vy{}'.format(vy1_)]\n",
    "        globals()['vy{}'.format(vy1_)]=V_(globals()['vy{}'.format(vy1_)],globals()['Say{}'.format(vy1_)]) #처음속도와 가속도 합\n",
    "    # V_라는 함수에 속도를 집어 넣음 이렇게 해서 vx,vy 갱신\n",
    "    #vy는 나중 속도, vy0는 처음 속도 --> 서로 다른 거 확인 함\n",
    "    \n",
    "    #나중 속도 구하기 z 성분\n",
    "    for vz1_ in range(1,count+1): \n",
    "        if vz1_ in minus:\n",
    "            continue\n",
    "        globals()['vz0{}'.format(vz1_)]=globals()['vz{}'.format(vz1_)]\n",
    "        globals()['vz{}'.format(vz1_)]=V_(globals()['vz{}'.format(vz1_)],globals()['Saz{}'.format(vz1_)]) #처음속도와 가속도 합\n",
    "    # V_라는 함수에 속도를 집어 넣음 이렇게 해서 vx,vy,vz 갱신\n",
    "        \n",
    "    \n",
    "    \"\"\"나중 위치 구하기\"\"\"\n",
    "    # 나중 위치 구하기 x 성분\n",
    "    for LX1_ in range(1,count+1):\n",
    "        if LX1_ in minus:\n",
    "            continue\n",
    "        globals()['locationx{}'.format(LX1_)]= L_(globals()['vx0{}'.format(LX1_)], globals()['vx{}'.format(LX1_)], globals()['locationx{}'.format(LX1_)])\n",
    "    #처음 속도, 나중 속도\n",
    " \n",
    "    # 나중 위치 구하기 y 성분\n",
    "    for LY1_ in range(1,count+1):\n",
    "        if LY1_ in minus:\n",
    "            continue\n",
    "        globals()['locationy{}'.format(LY1_)]= L_(globals()['vy0{}'.format(LY1_)], globals()['vy{}'.format(LY1_)], globals()['locationy{}'.format(LY1_)])\n",
    "    #처음 속도, 나중 속도\n",
    "    # 나중 위치 구하기 z 성분\n",
    "    for Lz1_ in range(1,count+1):\n",
    "        if Lz1_ in minus:\n",
    "            continue\n",
    "        globals()['locationz{}'.format(Lz1_)]= L_(globals()['vz0{}'.format(Lz1_)], globals()['vz{}'.format(Lz1_)], globals()['locationz{}'.format(Lz1_)])\n",
    "    #처음 속도, 나중 속도\n",
    "    \n",
    "    \n",
    "    \n",
    "    \"\"\"삭제 코드 작성\"\"\"\n",
    "    # 이곳에서부터 물체 삭제 코드 작성 시작\n",
    "    for DD in range(1,count+1):\n",
    "        for DDD in range(1,count+1):\n",
    "            if DD in minus:\n",
    "                continue\n",
    "            if DDD in minus:\n",
    "                continue\n",
    "            if DD<DDD and globals()['r__{}_{}'.format(DD,DDD)]<=0:\n",
    "                globals()['rad{}'.format(DD)]= area(globals()['rad{}'.format(DD)],globals()['rad{}'.format(DDD)])\n",
    "                # 앞의 물체(DD)반지름 갱신\n",
    "                # else 생략 가능!!\n",
    "                #mass{} 앞의 물체 질량갱신\n",
    "                globals()['mass{}'.format(DD)]=sum(globals()['mass{}'.format(DD)],globals()['mass{}'.format(DDD)])\n",
    "                \n",
    "                del globals()['locationx{}'.format(DDD)], #큰 걸 지워야 해 DDD\n",
    "                del globals()['locationy{}'.format(DDD)],\n",
    "                del globals()['locationz{}'.format(DDD)]\n",
    "                    # 초기 속도 삭제\n",
    "                del globals()['vx0{}'.format(DDD)],\n",
    "                del globals()['vy0{}'.format(DDD)],\n",
    "                del globals()['vz0{}'.format(DDD)]\n",
    "                    #속도 삭제\n",
    "                del  globals()['vx{}'.format(DDD)],\n",
    "                del  globals()['vy{}'.format(DDD)],\n",
    "                del  globals()['vz{}'.format(DDD)]\n",
    "                    #큰 거 기준 (질점,지표면)부터 거리 삭제\n",
    "                del globals()['r{}_{}'.format(DDD,DD)],\n",
    "                del globals()['r__{}_{}'.format(DDD,DD)],\n",
    "                    #큰 거 반지름 삭제\n",
    "                del globals()['rad{}'.format(DDD)],\n",
    "                    #큰 거 질량 삭제\n",
    "                del globals()['mass{}'.format(DDD)]\n",
    "                    #큰 거 가속도 삭제\n",
    "                del globals()['ax{}_{}'.format(DDD,DD)]\n",
    "                del globals()['ay{}_{}'.format(DDD,DD)]\n",
    "                del globals()['az{}_{}'.format(DDD,DD)]\n",
    "                del globals()['Sax{}'.format(DDD)]\n",
    "                del globals()['Say{}'.format(DDD)]\n",
    "                del globals()['Saz{}'.format(DDD)]\n",
    "                #물체들이 삭제되었으니 물체들의 총 수도 다시 정의해야 한다.\n",
    "                \n",
    "                \"\"\"!매우 중요!\"\"\"\n",
    "                minus.append(locals()['DDD'])\n",
    "    \n",
    "    \n",
    "    \"\"\"리스트 초기화 작업\"\"\"\n",
    "    #기존 locationx리스트 초기화\n",
    "    locationx=[]\n",
    "    locationy=[]\n",
    "    locationz=[]\n",
    "    for LOCATION1 in range(1,count+1):\n",
    "        if LOCATION1 in minus:\n",
    "            continue\n",
    "        locationx.append(globals()['locationx{}'.format(LOCATION1)]) #이렇게 append내에서도 광역 변수를 넣어줘야 정상적으로 숫자가 나온다\n",
    "        locationy.append(globals()['locationy{}'.format(LOCATION1)])\n",
    "        locationz.append(globals()['locationz{}'.format(LOCATION1)])\n",
    "        \n",
    "    #기존 질량 리스트 초기화\n",
    "    mass=[]\n",
    "    for MASS_ in range(1,count+1):\n",
    "        if MASS_ in minus:\n",
    "            continue\n",
    "        mass.append(globals()['mass{}'.format(MASS_)])\n",
    "    \n",
    "    # 기존 반지름 리스트 초기화\n",
    "    radius=[]\n",
    "    for R____ in range(1,count+1):\n",
    "        if R____ in minus:\n",
    "            continue\n",
    "        radius.append(globals()['rad{}'.format(R____)])\n",
    "    # 긱존 속도 리스트 초기화\n",
    "    velocityx=[]\n",
    "    velocityy=[]\n",
    "    velocityz=[]\n",
    "    for i in range(1,count+1):\n",
    "        if i in minus:\n",
    "            continue\n",
    "        velocityz.append(globals()['vz{}'.format(i)])\n",
    "        velocityx.append(globals()['vx{}'.format(i)])\n",
    "        velocityy.append(globals()['vy{}'.format(i)])\n",
    "    \n",
    "    \"\"\"최댓값 찾기 시리즈!!\"\"\"\n",
    "    largest= radius[0]\n",
    "    for i in radius: #flist\n",
    "        if i > largest:\n",
    "            largest=i\n",
    "    largest_radius.append(largest)\n",
    "    \n",
    "    largest1=velocityx[0]\n",
    "    for i in velocityx:\n",
    "        if i > largest1:\n",
    "            largest1=i\n",
    "    largest_velocityx.append(largest1)\n",
    "    \n",
    "    largest2=velocityy[0]\n",
    "    for i in velocityy:\n",
    "        if i > largest2:\n",
    "            largest2=i\n",
    "    largest_velocityy.append(largest2)\n",
    "    \n",
    "    largest3= velocityz[0]\n",
    "    for i in velocityz:\n",
    "        if i> largest3:\n",
    "            largest3=i\n",
    "    largest_velocityz.append(largest3)\n",
    "    \n",
    "           \n",
    "    #그래프 그리기\n",
    "    ax.scatter(locationx,locationy,locationz, c=mass, s= radius) #초기 물체들의 위치 c는 색깔, s점의 크기\n",
    "    ax.set_zticks((-p,p))\n",
    "    ax.set_xticks((-p,p))\n",
    "    ax.set_yticks((-p,p))\n",
    "    plt.pause(0.0001)\n",
    "    \n",
    "\n",
    "plt.show()"
   ]
  },
  {
   "cell_type": "code",
   "execution_count": null,
   "id": "5a40e7c1",
   "metadata": {},
   "outputs": [],
   "source": [
    "plt.show()"
   ]
  },
  {
   "cell_type": "code",
   "execution_count": null,
   "id": "16cbbf94",
   "metadata": {
    "scrolled": true
   },
   "outputs": [],
   "source": [
    "len(locationx)"
   ]
  },
  {
   "cell_type": "code",
   "execution_count": null,
   "id": "7638d8be",
   "metadata": {},
   "outputs": [],
   "source": [
    "print(minus)"
   ]
  },
  {
   "cell_type": "code",
   "execution_count": null,
   "id": "f79b9994",
   "metadata": {},
   "outputs": [],
   "source": [
    "len(minus)"
   ]
  },
  {
   "cell_type": "code",
   "execution_count": null,
   "id": "e6127430",
   "metadata": {
    "scrolled": true
   },
   "outputs": [],
   "source": [
    "plt.plot(radius)\n",
    "plt.show"
   ]
  },
  {
   "cell_type": "code",
   "execution_count": null,
   "id": "40bb14a6",
   "metadata": {},
   "outputs": [],
   "source": [
    "plt.plot(largest_radius)\n",
    "plt.show"
   ]
  }
 ],
 "metadata": {
  "kernelspec": {
   "display_name": "Python 3",
   "language": "python",
   "name": "python3"
  },
  "language_info": {
   "codemirror_mode": {
    "name": "ipython",
    "version": 3
   },
   "file_extension": ".py",
   "mimetype": "text/x-python",
   "name": "python",
   "nbconvert_exporter": "python",
   "pygments_lexer": "ipython3",
   "version": "3.8.8"
  }
 },
 "nbformat": 4,
 "nbformat_minor": 5
}
